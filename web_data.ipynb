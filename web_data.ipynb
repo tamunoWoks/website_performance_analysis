{
 "cells": [
  {
   "cell_type": "code",
   "execution_count": 8,
   "id": "68bb8203-77fb-48b7-a900-2bb6bbce4a9a",
   "metadata": {},
   "outputs": [],
   "source": [
    "# Import necessary modules\n",
    "import pandas as pd"
   ]
  },
  {
   "cell_type": "code",
   "execution_count": 10,
   "id": "4d28a2dc-d4a4-435a-b5db-5e0a960ee08e",
   "metadata": {},
   "outputs": [],
   "source": [
    "# Load dataset\n",
    "data = pd.read_csv(\"web_data.csv\")"
   ]
  },
  {
   "cell_type": "code",
   "execution_count": 12,
   "id": "c7bf9f57-20d8-41c4-8df9-929ab4cca6b5",
   "metadata": {},
   "outputs": [
    {
     "name": "stdout",
     "output_type": "stream",
     "text": [
      "0 Session primary channel group (Default channel group)  \\\n",
      "0                                             Direct      \n",
      "1                                     Organic Social      \n",
      "2                                             Direct      \n",
      "3                                     Organic Social      \n",
      "4                                     Organic Social      \n",
      "\n",
      "0 Date + hour (YYYYMMDDHH) Users Sessions Engaged sessions  \\\n",
      "0               2024041623   237      300              144   \n",
      "1               2024041719   208      267              132   \n",
      "2               2024041723   188      233              115   \n",
      "3               2024041718   187      256              125   \n",
      "4               2024041720   175      221              112   \n",
      "\n",
      "0 Average engagement time per session Engaged sessions per user  \\\n",
      "0                  47.526666666666700        0.6075949367088610   \n",
      "1                   32.09737827715360        0.6346153846153850   \n",
      "2                   39.93991416309010        0.6117021276595740   \n",
      "3                         32.16015625        0.6684491978609630   \n",
      "4                  46.918552036199100                      0.64   \n",
      "\n",
      "0 Events per session      Engagement rate Event count  \n",
      "0  4.673333333333330                 0.48        1402  \n",
      "1  4.295880149812730   0.4943820224719100        1147  \n",
      "2  4.587982832618030  0.49356223175965700        1069  \n",
      "3           4.078125           0.48828125        1044  \n",
      "4  4.529411764705880   0.5067873303167420        1001  \n"
     ]
    }
   ],
   "source": [
    "# Header assignment\n",
    "new_header = data.iloc[0]  # grab the first row for the header\n",
    "data = data[1:]  # excludes the original first row from the dataset\n",
    "data.columns = new_header  # assigns the retrieved row as column headers\n",
    "data.reset_index(drop=True, inplace=True) # ensures the DataFrame index is reset without retaining the old index.\n",
    "\n",
    "print(data.head())"
   ]
  },
  {
   "cell_type": "code",
   "execution_count": null,
   "id": "9b79b8dc-7655-4555-bbf6-3e964ec9c65d",
   "metadata": {},
   "outputs": [],
   "source": []
  }
 ],
 "metadata": {
  "kernelspec": {
   "display_name": "Python 3 (ipykernel)",
   "language": "python",
   "name": "python3"
  },
  "language_info": {
   "codemirror_mode": {
    "name": "ipython",
    "version": 3
   },
   "file_extension": ".py",
   "mimetype": "text/x-python",
   "name": "python",
   "nbconvert_exporter": "python",
   "pygments_lexer": "ipython3",
   "version": "3.12.4"
  }
 },
 "nbformat": 4,
 "nbformat_minor": 5
}
